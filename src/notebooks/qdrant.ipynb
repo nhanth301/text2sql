{
 "cells": [
  {
   "cell_type": "code",
   "execution_count": 1,
   "id": "bd289c9d",
   "metadata": {},
   "outputs": [
    {
     "name": "stderr",
     "output_type": "stream",
     "text": [
      "/home/thnhan301/Documents/PROJECT/GIT/text2sql/.venv/lib/python3.10/site-packages/tqdm/auto.py:21: TqdmWarning: IProgress not found. Please update jupyter and ipywidgets. See https://ipywidgets.readthedocs.io/en/stable/user_install.html\n",
      "  from .autonotebook import tqdm as notebook_tqdm\n",
      "/tmp/ipykernel_81795/3841340531.py:10: DeprecationWarning: `recreate_collection` method is deprecated and will be removed in the future. Use `collection_exists` to check collection existence and `create_collection` instead.\n",
      "  client.recreate_collection(\n"
     ]
    },
    {
     "data": {
      "text/plain": [
       "True"
      ]
     },
     "execution_count": 1,
     "metadata": {},
     "output_type": "execute_result"
    }
   ],
   "source": [
    "from qdrant_client import QdrantClient\n",
    "from qdrant_client.http import models\n",
    "from sentence_transformers import SentenceTransformer\n",
    "\n",
    "client = QdrantClient(\"http://localhost:6333\")\n",
    "\n",
    "model = SentenceTransformer(\"BAAI/bge-m3\")\n",
    "\n",
    "collection_name = \"db_schema\"\n",
    "client.recreate_collection(\n",
    "    collection_name=collection_name,\n",
    "    vectors_config=models.VectorParams(size=1024, distance=models.Distance.COSINE)\n",
    ")"
   ]
  },
  {
   "cell_type": "code",
   "execution_count": 2,
   "id": "01208d68",
   "metadata": {},
   "outputs": [
    {
     "name": "stdout",
     "output_type": "stream",
     "text": [
      "CREATE TABLE public.customer ( customer_id integer DEFAULT nextval('public.customer_customer_id_seq'::regclass) NOT NULL, store_id integer NOT NULL, first_name text NOT NULL, last_name text NOT NULL, email text, address_id integer NOT NULL, activebool boolean DEFAULT true NOT NULL, create_date date DEFAULT CURRENT_DATE NOT NULL, last_update timestamp with time zone DEFAULT now(), active integer );\n",
      "Contains information about actors, including their names and last update timestamp.\n"
     ]
    }
   ],
   "source": [
    "import json\n",
    "\n",
    "with open(\"schemas.json\", \"r\", encoding=\"utf-8\") as f:\n",
    "    schema_data = json.load(f)\n",
    "\n",
    "print(schema_data[\"customer\"][\"ddl\"])       \n",
    "print(schema_data[\"actor\"][\"des\"])  "
   ]
  },
  {
   "cell_type": "code",
   "execution_count": 3,
   "id": "2ab61753",
   "metadata": {},
   "outputs": [],
   "source": [
    "payloads = []\n",
    "texts = []\n",
    "for key in schema_data:\n",
    "    text = f\"Table: {key}\\nDescription: {schema_data[key]['des']}\\nSchema: {schema_data[key]['ddl']}\"\n",
    "    texts.append(text)\n",
    "    payloads.append({'table': key, 'description': schema_data[key]['des'], 'ddl': schema_data[key]['ddl']})"
   ]
  },
  {
   "cell_type": "code",
   "execution_count": 4,
   "id": "c639ac49",
   "metadata": {},
   "outputs": [],
   "source": [
    "embeddings = model.encode(texts).tolist()"
   ]
  },
  {
   "cell_type": "code",
   "execution_count": 5,
   "id": "da831928",
   "metadata": {},
   "outputs": [
    {
     "data": {
      "text/plain": [
       "UpdateResult(operation_id=0, status=<UpdateStatus.COMPLETED: 'completed'>)"
      ]
     },
     "execution_count": 5,
     "metadata": {},
     "output_type": "execute_result"
    }
   ],
   "source": [
    "client.upsert(\n",
    "    collection_name=collection_name,\n",
    "    points=[\n",
    "        models.PointStruct(id=i, vector=embeddings[i], payload=payloads[i])\n",
    "        for i in range(len(embeddings))\n",
    "    ]\n",
    ")"
   ]
  },
  {
   "cell_type": "code",
   "execution_count": 11,
   "id": "e5d0754f",
   "metadata": {},
   "outputs": [],
   "source": [
    "import warnings\n",
    "warnings.filterwarnings('ignore')"
   ]
  },
  {
   "cell_type": "code",
   "execution_count": 12,
   "id": "9b312c8a",
   "metadata": {},
   "outputs": [
    {
     "name": "stdout",
     "output_type": "stream",
     "text": [
      "{'table': 'store', 'description': 'Represents a video rental store, linking staff (manager) and address.', 'ddl': \"CREATE TABLE public.store ( store_id integer DEFAULT nextval('public.store_store_id_seq'::regclass) NOT NULL, manager_staff_id integer NOT NULL, address_id integer NOT NULL, last_update timestamp with time zone DEFAULT now() NOT NULL );\"} 0.5286474\n",
      "{'table': 'rental', 'description': 'Stores rental transactions, linking inventory, customers, and staff.', 'ddl': \"CREATE TABLE public.rental ( rental_id integer DEFAULT nextval('public.rental_rental_id_seq'::regclass) NOT NULL, rental_date timestamp with time zone NOT NULL, inventory_id integer NOT NULL, customer_id integer NOT NULL, return_date timestamp with time zone, staff_id integer NOT NULL, last_update timestamp with time zone DEFAULT now() NOT NULL );\"} 0.5238225\n",
      "{'table': 'category', 'description': 'Stores film categories such as Action, Comedy, Drama.', 'ddl': \"CREATE TABLE public.category ( category_id integer DEFAULT nextval('public.category_category_id_seq'::regclass) NOT NULL, name text NOT NULL, last_update timestamp with time zone DEFAULT now() NOT NULL );\"} 0.5104543\n",
      "{'table': 'payment', 'description': 'Records payments made by customers for rentals, including amount and payment date.', 'ddl': \"CREATE TABLE public.payment ( payment_id integer DEFAULT nextval('public.payment_payment_id_seq'::regclass) NOT NULL, customer_id integer NOT NULL, staff_id integer NOT NULL, rental_id integer NOT NULL, amount numeric(5,2) NOT NULL, payment_date timestamp with time zone NOT NULL );\"} 0.5076164\n",
      "{'table': 'film', 'description': 'Contains film details such as title, description, release year, language, length, rental rates, and special features.', 'ddl': \"CREATE TABLE public.film ( film_id integer DEFAULT nextval('public.film_film_id_seq'::regclass) NOT NULL, title text NOT NULL, description text, release_year public.year, language_id integer NOT NULL, original_language_id integer, rental_duration smallint DEFAULT 3 NOT NULL, rental_rate numeric(4,2) DEFAULT 4.99 NOT NULL, length smallint, replacement_cost numeric(5,2) DEFAULT 19.99 NOT NULL, rating public.mpaa_rating DEFAULT 'G'::public.mpaa_rating, last_update timestamp with time zone DEFAULT now() NOT NULL, special_features text[], fulltext tsvector NOT NULL );\"} 0.499033\n",
      "{'table': 'film_actor', 'description': 'Associates films with actors (many-to-many relationship between film and actor).', 'ddl': 'CREATE TABLE public.film_actor ( actor_id integer NOT NULL, film_id integer NOT NULL, last_update timestamp with time zone DEFAULT now() NOT NULL );'} 0.4885679\n",
      "{'table': 'inventory', 'description': 'Represents physical copies of films in each store’s inventory.', 'ddl': \"CREATE TABLE public.inventory ( inventory_id integer DEFAULT nextval('public.inventory_inventory_id_seq'::regclass) NOT NULL, film_id integer NOT NULL, store_id integer NOT NULL, last_update timestamp with time zone DEFAULT now() NOT NULL );\"} 0.4736754\n"
     ]
    }
   ],
   "source": [
    "query = \"Find the top 5 customers who spent the most money renting films in the ‘Action’ category during 2022, showing their full name, email, total amount spent, and the store where they rented the most\"\n",
    "query_vector = model.encode([query])[0]\n",
    "\n",
    "search_result = client.search(\n",
    "    collection_name=collection_name,\n",
    "    query_vector=query_vector,\n",
    "    limit=7\n",
    ")\n",
    "\n",
    "for r in search_result:\n",
    "    print(r.payload, r.score)"
   ]
  },
  {
   "cell_type": "code",
   "execution_count": 18,
   "id": "ca2562af",
   "metadata": {},
   "outputs": [
    {
     "name": "stdout",
     "output_type": "stream",
     "text": [
      "{'table': 'film', 'description': 'Contains film details such as title, description, release year, language, length, rental rates, and special features.', 'ddl': \"CREATE TABLE public.film ( film_id integer DEFAULT nextval('public.film_film_id_seq'::regclass) NOT NULL, title text NOT NULL, description text, release_year public.year, language_id integer NOT NULL, original_language_id integer, rental_duration smallint DEFAULT 3 NOT NULL, rental_rate numeric(4,2) DEFAULT 4.99 NOT NULL, length smallint, replacement_cost numeric(5,2) DEFAULT 19.99 NOT NULL, rating public.mpaa_rating DEFAULT 'G'::public.mpaa_rating, last_update timestamp with time zone DEFAULT now() NOT NULL, special_features text[], fulltext tsvector NOT NULL );\"} 0.70965326\n",
      "{'table': 'payment', 'description': 'Records payments made by customers for rentals, including amount and payment date.', 'ddl': \"CREATE TABLE public.payment ( payment_id integer DEFAULT nextval('public.payment_payment_id_seq'::regclass) NOT NULL, customer_id integer NOT NULL, staff_id integer NOT NULL, rental_id integer NOT NULL, amount numeric(5,2) NOT NULL, payment_date timestamp with time zone NOT NULL );\"} 0.70961845\n",
      "{'table': 'store', 'description': 'Represents a video rental store, linking staff (manager) and address.', 'ddl': \"CREATE TABLE public.store ( store_id integer DEFAULT nextval('public.store_store_id_seq'::regclass) NOT NULL, manager_staff_id integer NOT NULL, address_id integer NOT NULL, last_update timestamp with time zone DEFAULT now() NOT NULL );\"} 0.7070802\n",
      "{'table': 'rental', 'description': 'Stores rental transactions, linking inventory, customers, and staff.', 'ddl': \"CREATE TABLE public.rental ( rental_id integer DEFAULT nextval('public.rental_rental_id_seq'::regclass) NOT NULL, rental_date timestamp with time zone NOT NULL, inventory_id integer NOT NULL, customer_id integer NOT NULL, return_date timestamp with time zone, staff_id integer NOT NULL, last_update timestamp with time zone DEFAULT now() NOT NULL );\"} 0.70175236\n",
      "{'table': 'inventory', 'description': 'Represents physical copies of films in each store’s inventory.', 'ddl': \"CREATE TABLE public.inventory ( inventory_id integer DEFAULT nextval('public.inventory_inventory_id_seq'::regclass) NOT NULL, film_id integer NOT NULL, store_id integer NOT NULL, last_update timestamp with time zone DEFAULT now() NOT NULL );\"} 0.6833451\n",
      "{'table': 'customer', 'description': 'Stores basic information about customers, including name, contact details, and store association.', 'ddl': \"CREATE TABLE public.customer ( customer_id integer DEFAULT nextval('public.customer_customer_id_seq'::regclass) NOT NULL, store_id integer NOT NULL, first_name text NOT NULL, last_name text NOT NULL, email text, address_id integer NOT NULL, activebool boolean DEFAULT true NOT NULL, create_date date DEFAULT CURRENT_DATE NOT NULL, last_update timestamp with time zone DEFAULT now(), active integer );\"} 0.6813643\n",
      "{'table': 'category', 'description': 'Stores film categories such as Action, Comedy, Drama.', 'ddl': \"CREATE TABLE public.category ( category_id integer DEFAULT nextval('public.category_category_id_seq'::regclass) NOT NULL, name text NOT NULL, last_update timestamp with time zone DEFAULT now() NOT NULL );\"} 0.67578065\n"
     ]
    }
   ],
   "source": [
    "query = \"Table customer (customer_id PK, first_name, last_name, email), Table payment (payment_id PK, customer_id FK, rental_id FK, amount, payment_date), Table rental (rental_id PK, inventory_id FK, customer_id FK, rental_date), Table inventory (inventory_id PK, film_id FK, store_id FK), Table film (film_id PK), Table film_category (film_id PK FK, category_id PK FK), Table category (category_id PK, name), Table store (store_id PK).\"\n",
    "query_vector = model.encode([query])[0]\n",
    "\n",
    "search_result = client.search(\n",
    "    collection_name=collection_name,\n",
    "    query_vector=query_vector,\n",
    "    limit=7 \n",
    ")\n",
    "\n",
    "for r in search_result:\n",
    "    print(r.payload, r.score)"
   ]
  },
  {
   "cell_type": "code",
   "execution_count": 22,
   "id": "426e2601",
   "metadata": {},
   "outputs": [
    {
     "data": {
      "text/plain": [
       "True"
      ]
     },
     "execution_count": 22,
     "metadata": {},
     "output_type": "execute_result"
    }
   ],
   "source": [
    "from qdrant_client.models import VectorParams, Distance, SparseIndexParams\n",
    "client.recreate_collection(\n",
    "    collection_name=collection_name,\n",
    "    vectors_config={\n",
    "        \"dense\": models.VectorParams(size=1024, distance=models.Distance.COSINE)\n",
    "    },\n",
    "    sparse_vectors_config={\n",
    "        \"sparse\": models.SparseVectorParams()\n",
    "    }\n",
    ")"
   ]
  },
  {
   "cell_type": "code",
   "execution_count": 25,
   "id": "c5518652",
   "metadata": {},
   "outputs": [],
   "source": [
    "from FlagEmbedding import BGEM3FlagModel"
   ]
  },
  {
   "cell_type": "code",
   "execution_count": 26,
   "id": "8e5154c1",
   "metadata": {},
   "outputs": [
    {
     "name": "stderr",
     "output_type": "stream",
     "text": [
      "Fetching 30 files: 100%|██████████| 30/30 [00:34<00:00,  1.16s/it]\n"
     ]
    }
   ],
   "source": [
    "model = BGEM3FlagModel('BAAI/bge-m3', use_fp16=True)"
   ]
  },
  {
   "cell_type": "code",
   "execution_count": 29,
   "id": "8c6dc864",
   "metadata": {},
   "outputs": [],
   "source": [
    "from qdrant_client.models import VectorParams, Distance, SparseIndexParams, SparseVector"
   ]
  },
  {
   "cell_type": "code",
   "execution_count": null,
   "id": "3560e1e1",
   "metadata": {},
   "outputs": [
    {
     "name": "stdout",
     "output_type": "stream",
     "text": [
      "Đã hoàn thành việc tạo list points. Sẵn sàng cho việc upsert vào Qdrant.\n"
     ]
    }
   ],
   "source": [
    "points = []\n",
    "for i, text in enumerate(texts):\n",
    "    \n",
    "    output = model.encode(\n",
    "        [text],\n",
    "        return_dense=True,\n",
    "        return_sparse=True,\n",
    "\n",
    "    )\n",
    "    \n",
    "    dense_vec = output['dense_vecs'][0].tolist()\n",
    "    \n",
    "    sparse_data_dict = output['lexical_weights'][0] \n",
    "    \n",
    "    \n",
    "    indices = [int(k) for k in sparse_data_dict.keys()]\n",
    "    \n",
    "    values = [float(v) for v in sparse_data_dict.values()]\n",
    "    \n",
    "    sparse_vec = models.SparseVector(\n",
    "        indices=indices,\n",
    "        values=values   \n",
    "    )\n",
    "    \n",
    "\n",
    "    point_struct = models.PointStruct(\n",
    "        id=i,\n",
    "        payload=payloads[i],\n",
    "        vector={\n",
    "            'dense': dense_vec,        \n",
    "            'sparse': sparse_vec      \n",
    "        }\n",
    "    )\n",
    "    points.append(point_struct)"
   ]
  },
  {
   "cell_type": "code",
   "execution_count": null,
   "id": "2d0a7b5c",
   "metadata": {},
   "outputs": [
    {
     "name": "stdout",
     "output_type": "stream",
     "text": [
      "\n",
      "Đã chèn 15 điểm dữ liệu vào collection.\n"
     ]
    }
   ],
   "source": [
    "client.upsert(\n",
    "    collection_name=collection_name,\n",
    "    wait=True,\n",
    "    points=points\n",
    ")"
   ]
  },
  {
   "cell_type": "code",
   "execution_count": null,
   "id": "3ba783ff",
   "metadata": {},
   "outputs": [],
   "source": [
    "def hybrid_search_bge_m3(\n",
    "    client: QdrantClient, \n",
    "    model: BGEM3FlagModel, \n",
    "    query_text: str, \n",
    "    limit: int = 5,\n",
    "    prefetch_limit: int = 10,\n",
    "    collection_name: str = collection_name\n",
    "):\n",
    "\n",
    "    query_output = model.encode(\n",
    "        [query_text],\n",
    "        return_dense=True,\n",
    "        return_sparse=True\n",
    "    )\n",
    "    \n",
    "    query_dense_vec = query_output['dense_vecs'][0].tolist()\n",
    "    \n",
    "    sparse_data_dict = query_output['lexical_weights'][0]\n",
    "    indices = [int(k) for k in sparse_data_dict.keys()]\n",
    "    values = [float(v) for v in sparse_data_dict.values()]\n",
    "    \n",
    "    query_sparse_vec = models.SparseVector(\n",
    "        indices=indices,\n",
    "        values=values\n",
    "    )\n",
    "\n",
    "    search_result = client.query_points(\n",
    "        collection_name=collection_name,\n",
    "        \n",
    "        query=models.FusionQuery(\n",
    "            fusion=models.Fusion.RRF\n",
    "        ),\n",
    "        \n",
    "        prefetch=[\n",
    "            models.Prefetch(\n",
    "                query=query_dense_vec, \n",
    "                using='dense',\n",
    "                limit=prefetch_limit\n",
    "            ),\n",
    "            models.Prefetch(\n",
    "                query=query_sparse_vec, \n",
    "                using='sparse',\n",
    "                limit=prefetch_limit\n",
    "            )\n",
    "        ],\n",
    "        limit=limit,\n",
    "        with_payload=True\n",
    "    )\n",
    "\n",
    "    # 5. Định dạng kết quả\n",
    "    results = []\n",
    "    for point in search_result.points:\n",
    "        results.append({\n",
    "            \"id\": point.id,\n",
    "            \"score\": point.score,\n",
    "            \"payload\": point.payload\n",
    "        })\n",
    "        \n",
    "    return results"
   ]
  },
  {
   "cell_type": "code",
   "execution_count": 48,
   "id": "f5b99ed1",
   "metadata": {},
   "outputs": [
    {
     "data": {
      "text/plain": [
       "'\\ncustomer\\npayment\\nrental\\ninventory\\nfilm\\nfilm_category\\ncategory\\n'"
      ]
     },
     "execution_count": 48,
     "metadata": {},
     "output_type": "execute_result"
    }
   ],
   "source": [
    "\"\"\"\n",
    "customer\n",
    "payment\n",
    "rental\n",
    "inventory\n",
    "film\n",
    "film_category\n",
    "category\n",
    "\"\"\""
   ]
  },
  {
   "cell_type": "code",
   "execution_count": 54,
   "id": "a3142335",
   "metadata": {},
   "outputs": [
    {
     "name": "stdout",
     "output_type": "stream",
     "text": [
      "store 0.5909091\n",
      "customer 0.5\n",
      "film_category 0.44444445\n",
      "rental 0.44444445\n",
      "category 0.4166667\n",
      "inventory 0.375\n",
      "payment 0.34285715\n",
      "address 0.2909091\n"
     ]
    }
   ],
   "source": [
    "query = \"Find the top 5 customers who spent the most money renting films in the ‘Action’ category during 2022, showing their full name, email, total amount spent, and the store where they rented the most\"\n",
    "results = hybrid_search_bge_m3(client, model, query, 8)\n",
    "for result in results:\n",
    "    print(result['payload']['table'], result['score'])"
   ]
  },
  {
   "cell_type": "code",
   "execution_count": 53,
   "id": "01fc55dc",
   "metadata": {},
   "outputs": [
    {
     "name": "stdout",
     "output_type": "stream",
     "text": [
      "payment 0.8333334\n",
      "customer 0.5909091\n",
      "rental 0.5833334\n",
      "store 0.375\n",
      "film 0.31111112\n",
      "film_category 0.31111112\n",
      "category 0.30952382\n",
      "inventory 0.2916667\n"
     ]
    }
   ],
   "source": [
    "query = \"Find the top 5 customers who spent the most money renting films in the ‘Action’ category during 2022, showing their full name, email, total amount spent, and the store where they rented the most. Table customer (customer_id PK, first_name, last_name, email), Table payment (payment_id PK, customer_id FK, rental_id FK, amount, payment_date), Table rental (rental_id PK, inventory_id FK, customer_id FK, rental_date), Table inventory (inventory_id PK, film_id FK, store_id FK), Table film (film_id PK), Table film_category (film_id PK FK, category_id PK FK), Table category (category_id PK, name), Table store (store_id PK).\"\n",
    "results = hybrid_search_bge_m3(client, model, query, 8)\n",
    "for result in results:\n",
    "    print(result['payload']['table'], result['score'])"
   ]
  },
  {
   "cell_type": "code",
   "execution_count": null,
   "id": "6861c61d",
   "metadata": {},
   "outputs": [],
   "source": []
  }
 ],
 "metadata": {
  "kernelspec": {
   "display_name": "text2sql",
   "language": "python",
   "name": "python3"
  },
  "language_info": {
   "codemirror_mode": {
    "name": "ipython",
    "version": 3
   },
   "file_extension": ".py",
   "mimetype": "text/x-python",
   "name": "python",
   "nbconvert_exporter": "python",
   "pygments_lexer": "ipython3",
   "version": "3.10.18"
  }
 },
 "nbformat": 4,
 "nbformat_minor": 5
}
